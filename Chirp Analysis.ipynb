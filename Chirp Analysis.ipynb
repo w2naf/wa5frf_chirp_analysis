{
 "cells": [
  {
   "cell_type": "markdown",
   "id": "b5430a8d-058f-453c-87c9-0ddecaee53e7",
   "metadata": {},
   "source": [
    "# WA5FRF Chirp Experiment Analysis Script\n",
    "Stephen A. Cerwin WA5FRF\n",
    "\n",
    "Nathaniel A. Frissell W2NAF\n",
    "\n",
    "September 7, 2023"
   ]
  },
  {
   "cell_type": "markdown",
   "id": "d9a44d42-aaa9-4333-a665-77654b58b9d3",
   "metadata": {},
   "source": [
    "September 6, 2023\n",
    "\n",
    "Nathaniel,\n",
    "Here are five .wav files. I included the callsigns of the two stations, the band, date, UTC time, and sample rate in the first four filenames. The first one is the test waveform and the next three are on-the-air transmissions. The WA5FRF-N5DUP files are the ones I used in the papers at your workshop. The KJ5MA waveform has not been analyzed. The last one voicetx1.wav is the waveform from the IC-7610\\VoiceTx\\ folder on the SD card in the Icom 7610. I recorded it using the normal Tx voice memory recording method and feeding the waveform from the computer through a transformer isolated input circuit to mic input of the radio. It plays from the T1 button (hence the tx1 in the filename) in the VOICE screen selection brought up with the MENU button on the bottom of the radio next to the SD card slot. \n",
    "\n",
    "~Steve Cerwin"
   ]
  },
  {
   "cell_type": "markdown",
   "id": "ccace8ed-165c-42dc-9565-9949511a8ccc",
   "metadata": {
    "tags": []
   },
   "source": [
    "## Load in Libraries and Define Functions"
   ]
  },
  {
   "cell_type": "code",
   "execution_count": null,
   "id": "2124a70b-5475-4498-ab7b-01bf154b4e5c",
   "metadata": {
    "tags": []
   },
   "outputs": [],
   "source": [
    "import os\n",
    "\n",
    "import numpy as np\n",
    "import matplotlib as mpl\n",
    "from matplotlib import pyplot as plt\n",
    "\n",
    "from IPython.display import Audio, display\n",
    "\n",
    "from scipy import signal\n",
    "from scipy.io import wavfile\n",
    "\n",
    "import pandas as pd\n",
    "\n",
    "%matplotlib inline"
   ]
  },
  {
   "cell_type": "code",
   "execution_count": null,
   "id": "ceae0ddc-0c06-47cd-b355-49b74aa4cda2",
   "metadata": {
    "tags": []
   },
   "outputs": [],
   "source": [
    "# Sets default style and font parameters for the plots we are making.\n",
    "mpl.rcParams['font.size']      = 16\n",
    "mpl.rcParams['font.weight']    = 'bold'\n",
    "mpl.rcParams['axes.grid']      = True\n",
    "mpl.rcParams['grid.linestyle'] = ':'\n",
    "mpl.rcParams['figure.figsize'] = (12,9)\n",
    "mpl.rcParams['axes.xmargin']   = 0\n",
    "mpl.rcParams['axes.ymargin']   = 0.1"
   ]
  },
  {
   "cell_type": "code",
   "execution_count": null,
   "id": "a2d911f1-67da-4819-a1df-5d9180f4ed0c",
   "metadata": {
    "tags": []
   },
   "outputs": [],
   "source": [
    "def play(df, column='x', autoplay=False,tlim=None):\n",
    "    \"\"\"\n",
    "    Play a signal (WAV file) stored in a DataFrame.\n",
    "    \n",
    "    df:      DataFrame containing signal with time series index.\n",
    "    column:  Name of column to play.\n",
    "    autoplay: Immediately play the signal if True  \n",
    "    \"\"\"\n",
    "    if tlim is not None:\n",
    "        tf = np.logical_and(df.index >= tlim[0],\n",
    "                            df.index <  tlim[1])\n",
    "        df = df[tf].copy()\n",
    "    \n",
    "    # Get signal.\n",
    "    x    = df[column]\n",
    "    \n",
    "    # Compute sampling period and sampling frequency.\n",
    "    tvec = df.index\n",
    "    Ts   = tvec[1] - tvec[0]\n",
    "    fs   = 1/Ts\n",
    "    \n",
    "    display(Audio(x, rate=fs, autoplay=autoplay))# Enable/disable playing of sounds"
   ]
  },
  {
   "cell_type": "code",
   "execution_count": null,
   "id": "e8aeccb7-9398-4780-92c1-66db4e3a3d8d",
   "metadata": {
    "tags": []
   },
   "outputs": [],
   "source": [
    "def adjust_axes(ax_0,ax_1):\n",
    "    \"\"\"\n",
    "    Force geospace environment axes to line up with histogram\n",
    "    axes even though it doesn't have a color bar.\n",
    "    \"\"\"\n",
    "    ax_0_pos    = list(ax_0.get_position().bounds)\n",
    "    ax_1_pos    = list(ax_1.get_position().bounds)\n",
    "    ax_0_pos[2] = ax_1_pos[2]\n",
    "    ax_0.set_position(ax_0_pos)"
   ]
  },
  {
   "cell_type": "code",
   "execution_count": null,
   "id": "3df55b94-ca62-480c-b879-9ed1cb37731b",
   "metadata": {
    "tags": []
   },
   "outputs": [],
   "source": [
    "def plot_sig(df,column='x',title=None,tlim=None,flim=None,figsize=(15,10),\n",
    "            waveform=True, specgram=True):\n",
    "    \"\"\"\n",
    "    Plot signal and spectrogram.\n",
    "    \n",
    "    df:      DataFrame containing signal with time series index.\n",
    "    column:  Name of column to plot.\n",
    "    fs:      sampling frequency\n",
    "    title:   Overall title of plot\n",
    "    tlim:    Time limits of waveform and spectrogram plots\n",
    "    flim:    Frequency Limits of spectrogram and FFT plots\n",
    "    figsize: Size of figure\n",
    "    \n",
    "    waveform: If True, plot waveform.\n",
    "    specgram: If True, plot spectrogram.\n",
    "    \n",
    "    \"\"\"\n",
    "    # Get signal.\n",
    "    x    = df[column]\n",
    "    \n",
    "    # Compute sampling period and sampling frequency.\n",
    "    tvec = df.index\n",
    "    Ts   = tvec[1] - tvec[0]\n",
    "    fs   = 1/Ts\n",
    "    \n",
    "    # Set default time limits.\n",
    "    if tlim is None:\n",
    "        tlim = (0,np.max(tvec))\n",
    "    \n",
    "    fig = plt.figure(figsize=figsize) # Create figure.\n",
    "    \n",
    "    ### Plot the time domain waveform.\n",
    "    axs = []\n",
    "    if waveform:\n",
    "        ax  = fig.add_subplot(2,1,1)\n",
    "        axs.append(ax)\n",
    "        ax.plot(tvec,x)\n",
    "        ax.set_xlabel('t [sec]')\n",
    "        ax.set_ylabel('x(t)')\n",
    "        ax.set_xlim(tlim)\n",
    "\n",
    "    ### Plot the spectrogram\n",
    "    if specgram:\n",
    "        ax  = fig.add_subplot(2,1,2)\n",
    "        axs.append(ax)\n",
    "        nperseg   = int(fs)           # 1 Hz resolution (df = fs/nperseg)\n",
    "        noverlap  = int(0.75*nperseg) # 75% Overlap of Windows\n",
    "        f, t, Sxx = signal.spectrogram(x, fs,window='hann',nperseg=nperseg,noverlap=noverlap)\n",
    "        mpbl      = ax.pcolormesh(t, f, 10*np.log10(Sxx))\n",
    "        ax.set_ylim(flim)\n",
    "        ax.set_ylabel('Frequency [Hz]')\n",
    "        ax.set_xlabel('Time [sec]')\n",
    "        ax.set_xlim(tlim)\n",
    "        plt.colorbar(mpbl,label='PSD [dB]',aspect=10,pad=0.02)\n",
    "    \n",
    "    if title is not None:\n",
    "        axs[0].set_title(title)\n",
    "        \n",
    "    plt.tight_layout()\n",
    "    \n",
    "    if waveform and specgram:\n",
    "        adjust_axes(axs[0],axs[1])\n",
    "        \n",
    "    plt.show()"
   ]
  },
  {
   "cell_type": "code",
   "execution_count": null,
   "id": "8691d47e-6311-453f-9e39-28f34e0ac6e8",
   "metadata": {
    "tags": []
   },
   "outputs": [],
   "source": [
    "def plot_filter_response(sos,fs,Wn=None,db_lim=(-40,1),flim=None,figsize=(10,6)):\n",
    "    \"\"\"\n",
    "    Plots the magnitude and phase response of a filter.\n",
    "    \n",
    "    sos:    second-order sections ('sos') array\n",
    "    fs:     sample rate\n",
    "    Wn:     cutoff frequency(ies)\n",
    "    db_lim: ylimits of magnitude response plot\n",
    "    flim:   frequency limits of plots\n",
    "    \"\"\"\n",
    "    if Wn is not None:\n",
    "        # Make sure Wn is an iterable.\n",
    "        Wn = np.array(Wn)\n",
    "        if Wn.shape == ():\n",
    "            Wn.shape = (1,)\n",
    "    \n",
    "    f, h  = signal.sosfreqz(sos, worN=fs, fs=fs)\n",
    "    \n",
    "    fig = plt.figure(figsize=figsize)\n",
    "    \n",
    "    # Plot time domain waveform\n",
    "    plt.subplot(211)\n",
    "    plt.plot(f, 20 * np.log10(abs(h)))\n",
    "    # plt.xscale('log')\n",
    "    plt.title('Filter Frequency Response')\n",
    "    plt.xlabel('Frequency [Hz]')\n",
    "    plt.ylabel('Amplitude [dB]')\n",
    "    plt.grid(which='both', axis='both')\n",
    "    if Wn is not None:\n",
    "        for cf in Wn:\n",
    "            plt.axvline(cf, color='green') # cutoff frequency\n",
    "    plt.xlim(flim)\n",
    "    plt.ylim(db_lim)\n",
    "\n",
    "    # Plot spectrogram\n",
    "    plt.subplot(212)\n",
    "    plt.plot(f, np.unwrap(np.angle(h)))\n",
    "    # plt.xscale('log')\n",
    "    plt.title('Filter Phase Response')\n",
    "    plt.xlabel('Frequency [Hz]')\n",
    "    plt.ylabel('Phase [rad]')\n",
    "    plt.grid(which='both', axis='both')\n",
    "    if Wn is not None:\n",
    "        for cf in Wn:\n",
    "            plt.axvline(cf, color='green') # cutoff frequency\n",
    "    plt.xlim(flim)\n",
    "\n",
    "    plt.tight_layout()\n",
    "    plt.show()"
   ]
  },
  {
   "cell_type": "code",
   "execution_count": null,
   "id": "78ef995c-be2b-498a-9173-df711c76b16f",
   "metadata": {
    "tags": []
   },
   "outputs": [],
   "source": [
    "def load_wav(fname,normalize=True):\n",
    "    \"\"\"    \n",
    "    Loads a WAV file and returns a DataFrame with the signal\n",
    "    and the sampling frequency.\n",
    "    \n",
    "    Input:\n",
    "        fname:     Filename of WAV file.\n",
    "        normalize: If True, normalize signal and convert to floating point.\n",
    "        \n",
    "    Returns:\n",
    "        df: DataFrame containing signal\n",
    "        fs: Sampling frequency [samples/sec]\n",
    "    \"\"\"\n",
    "    # Load WAV file.\n",
    "    fs,x0 = wavfile.read(fname)\n",
    "    \n",
    "    if normalize:\n",
    "        x0   = x0/float(np.max(np.abs(x0)))\n",
    "\n",
    "    # Compute time vector.\n",
    "    N  = len(x0)             # Number of samples in signal\n",
    "    k  = np.arange(len(x0))  # Integer time vector\n",
    "    Ts = 1/fs                # Sampling Period\n",
    "    t  = k*Ts\n",
    "    \n",
    "    df = pd.DataFrame({'time':t,'x':x0})\n",
    "    df = df.set_index('time')\n",
    "    \n",
    "    return df, fs     "
   ]
  },
  {
   "cell_type": "markdown",
   "id": "9f1bbbe2-e1c9-4cbd-9a9d-da42eeec1e92",
   "metadata": {},
   "source": [
    "## Load and Plot WAV File"
   ]
  },
  {
   "cell_type": "code",
   "execution_count": null,
   "id": "a93feb2f-cdef-4d27-8530-4945bfb9f422",
   "metadata": {
    "tags": []
   },
   "outputs": [],
   "source": [
    "# fname = \"WA5FRF_seqp-test-48000SPS.wav\"\n",
    "# fname = \"WA5FRF-KJ5MA-75m-20230725-1237z-16000SPS.wav\"\n",
    "# fname = \"WA5FRF-N5DUP-60m-20230226-2104z-8000SPS.wav\"\n",
    "fname  = os.path.join('data','WA5FRF-N5DUP-75m-20230224-1410z-44100SPS.wav')\n",
    "x0,fs  = load_wav(fname)"
   ]
  },
  {
   "cell_type": "code",
   "execution_count": null,
   "id": "75e24ea6-8ea2-40e9-b96d-f29585207cdd",
   "metadata": {
    "tags": []
   },
   "outputs": [],
   "source": [
    "flim   = (0,4e3) # Set frequency limits for plotting purposes.\n",
    "plot_sig(x0,title=fname,flim=flim)"
   ]
  },
  {
   "cell_type": "code",
   "execution_count": null,
   "id": "059fc723-7f10-4bbf-b9a6-e1c368c58d79",
   "metadata": {
    "tags": []
   },
   "outputs": [],
   "source": [
    "# Play Wav File\n",
    "play(x0)"
   ]
  },
  {
   "cell_type": "markdown",
   "id": "890459bf-12d8-40d5-b571-32baca35b18f",
   "metadata": {},
   "source": [
    "## Select Time Period of Interest"
   ]
  },
  {
   "cell_type": "code",
   "execution_count": null,
   "id": "2959f940-29ef-455f-9ee2-753625cf3328",
   "metadata": {
    "tags": []
   },
   "outputs": [],
   "source": [
    "tlim  = (7.3,7.6)"
   ]
  },
  {
   "cell_type": "code",
   "execution_count": null,
   "id": "d160e313-e775-4904-9fcc-faf6e536e250",
   "metadata": {
    "tags": []
   },
   "outputs": [],
   "source": [
    "plot_sig(x0,title=fname,flim=flim,tlim=tlim)"
   ]
  },
  {
   "cell_type": "code",
   "execution_count": null,
   "id": "3ab785f6-c19e-41d2-a175-0ddafcc89741",
   "metadata": {
    "tags": []
   },
   "outputs": [],
   "source": [
    "play(x0,tlim=tlim)"
   ]
  },
  {
   "cell_type": "markdown",
   "id": "be208bf0-92fc-41e5-a8d9-ad7c11843609",
   "metadata": {},
   "source": [
    "# START CODING HERE THE NEXT TIME"
   ]
  },
  {
   "cell_type": "markdown",
   "id": "8bdb69da-c03b-41e1-8b5f-3627199adf0c",
   "metadata": {},
   "source": [
    "# Squaring the Signal"
   ]
  },
  {
   "cell_type": "code",
   "execution_count": null,
   "id": "9ce969dd-2e56-4dd3-9a15-0456205789cf",
   "metadata": {
    "tags": []
   },
   "outputs": [],
   "source": [
    "m2 = m1**2\n",
    "\n",
    "\n",
    "\n",
    "fig = plt.figure(figsize=(10,8)) # Create figure.\n",
    "\n",
    "### Plot the time domain waveform.\n",
    "ax  = fig.add_subplot(1,1,1)\n",
    "ax.plot(t,m2)\n",
    "ax.set_xlabel('kT [sec]')\n",
    "ax.set_ylabel('m1(t)')\n",
    "ax.set_xlim(tlim)"
   ]
  },
  {
   "cell_type": "code",
   "execution_count": null,
   "id": "79a70484-fbd8-4d54-af79-ad45e7c8737e",
   "metadata": {
    "tags": []
   },
   "outputs": [],
   "source": [
    "df = pd.DataFrame({'time':t,'x':m2})\n",
    "df = df.set_index('time')\n",
    "df['env'] = df.rolling(50,center=True).max()"
   ]
  },
  {
   "cell_type": "code",
   "execution_count": null,
   "id": "4f107593-5bdd-4120-96da-e8f1afd0fe56",
   "metadata": {
    "tags": []
   },
   "outputs": [],
   "source": []
  },
  {
   "cell_type": "code",
   "execution_count": null,
   "id": "752d9770-3a3d-4721-b4ed-f283a7b0eb03",
   "metadata": {
    "tags": []
   },
   "outputs": [],
   "source": [
    "xx = df.index\n",
    "yy = df['x']\n",
    "env = df['env']\n",
    "\n",
    "tlim  = (7.3,7.6)\n",
    "\n",
    "fig = plt.figure(figsize=(10,8)) # Create figure.\n",
    "\n",
    "### Plot the time domain waveform.\n",
    "ax  = fig.add_subplot(1,1,1)\n",
    "ax.plot(xx,yy)\n",
    "ax.plot(xx,env)\n",
    "\n",
    "ax.set_xlabel('kT [sec]')\n",
    "ax.set_ylabel('x(t)')\n",
    "ax.set_xlim(tlim)"
   ]
  },
  {
   "cell_type": "markdown",
   "id": "3cbb20ce-9630-434a-868a-27bc37ffa59c",
   "metadata": {},
   "source": [
    "### Lowpass Filter"
   ]
  },
  {
   "cell_type": "code",
   "execution_count": null,
   "id": "f3916585-f445-4fd9-9b90-1cfd1e333cd3",
   "metadata": {
    "tags": []
   },
   "outputs": [],
   "source": [
    "wp    = 250\n",
    "ws    = 1.1*wp\n",
    "\n",
    "gpass =  3 # The maximum loss in the passband (dB).\n",
    "gstop = 40 # The minimum attenuation in the stopband (dB).\n",
    "\n",
    "N, Wn = signal.buttord(wp, ws, gpass, gstop, fs=fs)\n",
    "sos   = signal.butter(N, Wn, 'low', fs=fs, output='sos')\n",
    "\n",
    "flim = (0,150)\n",
    "plot_filter_response(sos,fs,Wn,flim=flim)"
   ]
  },
  {
   "cell_type": "code",
   "execution_count": null,
   "id": "c72e09eb-2b0d-4560-a9a2-209179caf938",
   "metadata": {
    "tags": []
   },
   "outputs": [],
   "source": [
    "# Drop NaNs\n",
    "df_1 = df.dropna()"
   ]
  },
  {
   "cell_type": "code",
   "execution_count": null,
   "id": "c5721c7b-b992-4a94-9dd8-9e9e855c438b",
   "metadata": {
    "tags": []
   },
   "outputs": [],
   "source": [
    "# Apply Filter to Signal\n",
    "v1 = signal.sosfiltfilt(sos,df_1['env'])"
   ]
  },
  {
   "cell_type": "markdown",
   "id": "63971272-ef85-453b-aacb-8076cdb49c9f",
   "metadata": {
    "tags": []
   },
   "source": [
    "### Lowpass Filter"
   ]
  },
  {
   "cell_type": "code",
   "execution_count": null,
   "id": "f291f556-fb0b-4531-87b3-3ed76fb29934",
   "metadata": {
    "tags": []
   },
   "outputs": [],
   "source": [
    "xx  = df.index\n",
    "yy  = df['x']\n",
    "\n",
    "tlim  = (7.3,7.6)\n",
    "\n",
    "fig = plt.figure(figsize=(10,8)) # Create figure.\n",
    "\n",
    "### Plot the time domain waveform.\n",
    "ax  = fig.add_subplot(1,1,1)\n",
    "ax.plot(xx,yy)\n",
    "ax.plot(df_1.index,v1)\n",
    "\n",
    "ax.set_xlabel('kT [sec]')\n",
    "ax.set_ylabel('x(t)')\n",
    "ax.set_xlim(tlim)"
   ]
  },
  {
   "cell_type": "markdown",
   "id": "17c25c2d-d302-4e23-b2c6-30d94fb3e9fd",
   "metadata": {},
   "source": [
    "# High Pass Filter"
   ]
  },
  {
   "cell_type": "code",
   "execution_count": null,
   "id": "7b66298e-4ff5-45e9-b130-593d602cf023",
   "metadata": {
    "tags": []
   },
   "outputs": [],
   "source": [
    "wp    = 10\n",
    "ws    = 0.8*wp\n",
    "\n",
    "gpass =  3 # The maximum loss in the passband (dB).\n",
    "gstop = 40 # The minimum attenuation in the stopband (dB).\n",
    "\n",
    "N, Wn = signal.buttord(wp, ws, gpass, gstop, fs=fs)\n",
    "sos   = signal.butter(N, Wn, 'high', fs=fs, output='sos')\n",
    "\n",
    "flim = (0,150)\n",
    "plot_filter_response(sos,fs,Wn,flim=flim)"
   ]
  },
  {
   "cell_type": "code",
   "execution_count": null,
   "id": "a978fb84-e56b-40de-85ac-db286a2da74c",
   "metadata": {
    "tags": []
   },
   "outputs": [],
   "source": [
    "# Apply Filter to Signal\n",
    "v2 = signal.sosfiltfilt(sos,v1)"
   ]
  },
  {
   "cell_type": "code",
   "execution_count": null,
   "id": "31efc5ec-0779-4518-8708-8757f26214b5",
   "metadata": {
    "tags": []
   },
   "outputs": [],
   "source": [
    "xx  = df.index\n",
    "yy  = df['x']\n",
    "\n",
    "tlim  = (7.3,7.6)\n",
    "\n",
    "fig = plt.figure(figsize=(10,8)) # Create figure.\n",
    "\n",
    "### Plot the time domain waveform.\n",
    "ax  = fig.add_subplot(1,1,1)\n",
    "ax.plot(xx,yy)\n",
    "ax.plot(df_1.index,v2)\n",
    "\n",
    "ax.set_xlabel('kT [sec]')\n",
    "ax.set_ylabel('x(t)')\n",
    "ax.set_xlim(tlim)"
   ]
  },
  {
   "cell_type": "markdown",
   "id": "1354c558-3af4-4cce-b1c1-543b07a162f2",
   "metadata": {},
   "source": [
    "# Calculate FFT"
   ]
  },
  {
   "cell_type": "markdown",
   "id": "c9e3db14-b2d5-452f-9d10-bec7427070ab",
   "metadata": {},
   "source": [
    "### FFT Computation\n",
    "We now use the windowed version of the signal to compute the FFT.\n",
    "\n",
    "**Important Notes**\n",
    "1. For a sinusoid, we expect two delta functions with a weight of 0.5 at $\\pm F_0$. To correctly calculate the amplitude we need to multiply the FFT answer by $2T_s$. Multiplying by $T_s$ is to account for the width of the sampling period. Multiplying by 2 is the correction factor for the Hanning Window that was applied earlier.\n",
    "2. Remember that the Fourier Transform computes values for both positive and negative frequencies. The FFT does this, too. But, the resulting vector produced by the FFT algorithm gives the positive frequencies first followed by the negative freuqencies. To put the values in the proper order, we use np.fft.fftshift()."
   ]
  },
  {
   "cell_type": "code",
   "execution_count": null,
   "id": "f0f52faa-0d5b-4d0e-8af0-61b47afcfc8e",
   "metadata": {
    "tags": []
   },
   "outputs": [],
   "source": [
    "tlim"
   ]
  },
  {
   "cell_type": "code",
   "execution_count": null,
   "id": "4eb30de1-4f90-4734-b403-d8aa0b001ab3",
   "metadata": {},
   "outputs": [],
   "source": [
    "# Select only data of times that we need.\n",
    "\n"
   ]
  },
  {
   "cell_type": "code",
   "execution_count": null,
   "id": "535c7a00-f5e4-48a1-acf0-8cae6f184d45",
   "metadata": {},
   "outputs": [],
   "source": [
    "# Compute the FFT.\n",
    "X0 = np.fft.fft(x0_han)*Ts*2\n",
    "\n",
    "# Reorder values so they go in frequency order from negative to positive.\n",
    "X0 = np.fft.fftshift(X0)"
   ]
  },
  {
   "cell_type": "code",
   "execution_count": null,
   "id": "1ad37f82-a748-4dcd-a31e-5c2cd8eb4116",
   "metadata": {},
   "outputs": [],
   "source": [
    "# Let's print the resulting FFT X0. Remember this should show up as complex numbers!\n",
    "X0"
   ]
  },
  {
   "cell_type": "markdown",
   "id": "dc459a28-6613-4e6a-9288-34c424c911cf",
   "metadata": {},
   "source": [
    "### FFT Frequency Vector\n",
    "But what are the frequencies that are actually being computed? The FFT will compute for frequencies from -Nyquist to +Nyquist, evenly spaced by the number of samples in the original signal. The function ``np.fft.fftfreq()`` will conveniently calculate the frequency vector for you in Hz, given the integer length of the input signal and the sampling period in seconds. Note that ``np.fft.fftfreq()`` matches ``np.fft.fft()``. So, we will also want to shift the order of the frequency vector."
   ]
  },
  {
   "cell_type": "code",
   "execution_count": null,
   "id": "5c630270-3fc1-4373-a378-f5b8af06c7f7",
   "metadata": {},
   "outputs": [],
   "source": [
    "f  = np.fft.fftfreq(len(X0),Ts)\n",
    "f  = np.fft.fftshift(f)"
   ]
  },
  {
   "cell_type": "markdown",
   "id": "f9cbc581-ae03-4a91-9147-b18103e0b428",
   "metadata": {},
   "source": [
    "Note that you can get help about a particular command using ``pinfo``. Take a moment to read the documentation string for ``np.fft.fftfreq()``."
   ]
  },
  {
   "cell_type": "code",
   "execution_count": null,
   "id": "4a0f685d-8241-4e09-8e16-df133f1cb02a",
   "metadata": {},
   "outputs": [],
   "source": [
    "pinfo np.fft.fftfreq"
   ]
  },
  {
   "cell_type": "markdown",
   "id": "641c23fd-8abe-46fb-a7a5-f4bab8b9e1bc",
   "metadata": {},
   "source": [
    "### FFT Plotting\n",
    "Now that we have both the FFT values"
   ]
  },
  {
   "cell_type": "code",
   "execution_count": null,
   "id": "943edace-bea4-44ce-8769-30c9dea00d04",
   "metadata": {},
   "outputs": [],
   "source": [
    "fig = plt.figure()\n",
    "\n",
    "ax  = fig.add_subplot(2,1,1)\n",
    "ax.plot(f,np.abs(X0))\n",
    "ax.set_xticklabels([])\n",
    "ax.set_ylabel('$|X_0(f)|$')\n",
    "ax.set_title('Magnitude and Phase Spectrum of Middle C')\n",
    "\n",
    "ax  = fig.add_subplot(2,1,2)\n",
    "ax.plot(f,np.angle(X0))\n",
    "ax.set_xlabel('f [Hz]')\n",
    "ax.set_ylabel('arg($X_0(f)$)')\n",
    "ax.set_ylim(-np.pi,np.pi)\n",
    "\n",
    "fig.tight_layout()\n",
    "plt.show()"
   ]
  },
  {
   "cell_type": "code",
   "execution_count": null,
   "id": "7fc86b4c-60d6-4233-bc04-de872f07035d",
   "metadata": {},
   "outputs": [],
   "source": []
  }
 ],
 "metadata": {
  "kernelspec": {
   "display_name": "Python 3 (ipykernel)",
   "language": "python",
   "name": "python3"
  },
  "language_info": {
   "codemirror_mode": {
    "name": "ipython",
    "version": 3
   },
   "file_extension": ".py",
   "mimetype": "text/x-python",
   "name": "python",
   "nbconvert_exporter": "python",
   "pygments_lexer": "ipython3",
   "version": "3.11.4"
  }
 },
 "nbformat": 4,
 "nbformat_minor": 5
}
